{
  "cells": [
    {
      "cell_type": "markdown",
      "source": [
        "## Romain Brette's food vs. no food thought experiment: \n",
        "1. Does our neural network converge? \n",
        "2. What food policy does it converge to? "
      ],
      "metadata": {}
    },
    {
      "cell_type": "markdown",
      "source": [
        "## Load the main classes and libraries: "
      ],
      "metadata": {}
    },
    {
      "cell_type": "code",
      "source": [
        "import matplotlib.pyplot as plt\n",
        "import numpy as np\n",
        "\n",
        "from free_energy_agent import free_agent\n",
        "from train import train"
      ],
      "outputs": [],
      "execution_count": 16,
      "metadata": {
        "collapsed": false,
        "outputHidden": false,
        "inputHidden": false
      }
    },
    {
      "cell_type": "markdown",
      "source": [
        "## Run simulation: "
      ],
      "metadata": {}
    },
    {
      "cell_type": "code",
      "source": [
        "## define number of epochs:\n",
        "epochs = 10000 \n",
        "batch_size = 50\n",
        "\n",
        "## define main parameters:\n",
        "basic_needs = 3.0 ## average food consumption per day in order to maintain homeostatic conditions\n",
        "success_probability = 0.2 ## the probability that looking for food(i.e. hunting) results in food(i.e. success)\n",
        "\nloss, food_policies, total_consumption = train(epochs,batch_size,basic_needs,success_probability)"
      ],
      "outputs": [],
      "execution_count": 21,
      "metadata": {
        "collapsed": false,
        "outputHidden": false,
        "inputHidden": false
      }
    },
    {
      "cell_type": "markdown",
      "source": [
        "## Inspect the loss to check convergence: "
      ],
      "metadata": {}
    },
    {
      "cell_type": "code",
      "source": [
        "%matplotlib inline\n",
        "\n",
        "plt.figure(figsize=(10,10))\n",
        "\n",
        "plt.plot(loss)\n",
        "\n",
        "plt.style.use('ggplot')\n",
        "\n",
        "plt.title('loss')\n",
        "\nplt.show()"
      ],
      "outputs": [
        {
          "output_type": "display_data",
          "data": {
            "text/plain": [
              "<matplotlib.figure.Figure at 0x1091da550>"
            ],
            "image/png": "[encoded data removed]"
          },
          "metadata": {}
        }
      ],
      "execution_count": 22,
      "metadata": {}
    },
    {
      "cell_type": "markdown",
      "source": [
        "## What food strategy does the agent converge to?"
      ],
      "metadata": {}
    },
    {
      "cell_type": "code",
      "source": [
        "food_policies[-1]"
      ],
      "outputs": [
        {
          "output_type": "execute_result",
          "execution_count": 26,
          "data": {
            "text/plain": [
              "array([0.78462076, 0.92705119, 0.50644875, 0.26420873, 0.34845474,\n",
              "       0.45656285, 0.09498456, 0.99973017, 0.7681874 , 0.43698549,\n",
              "       0.81671399, 0.46564001, 0.7276535 , 0.5703811 , 0.99973148,\n",
              "       0.493808  , 0.72236001, 0.82664996, 0.07953365, 0.48896351,\n",
              "       0.50418121, 0.76253104, 0.49709055, 0.99971789])"
            ]
          },
          "metadata": {}
        }
      ],
      "execution_count": 26,
      "metadata": {
        "collapsed": false,
        "outputHidden": false,
        "inputHidden": false
      }
    },
    {
      "cell_type": "code",
      "source": [
        "np.mean([np.dot(food_vectors[-1],np.random.choice((0.0,1.0),size=24,p=(0.8,0.2))) for i in range(10)])"
      ],
      "outputs": [
        {
          "output_type": "execute_result",
          "execution_count": 24,
          "data": {
            "text/plain": [
              "3.044865696132183"
            ]
          },
          "metadata": {}
        }
      ],
      "execution_count": 24,
      "metadata": {
        "collapsed": false,
        "outputHidden": false,
        "inputHidden": false
      }
    },
    {
      "cell_type": "markdown",
      "source": [
        "### Note that the discovered food policy differs significantly from Romain's expectation that the agent would choose to not look for food in order to minimise surprisal. In fact, our simple agent manages to get three meals per day on average. "
      ],
      "metadata": {}
    }
  ],
  "metadata": {
    "kernel_info": {
      "name": "python3"
    },
    "kernelspec": {
      "name": "python3",
      "language": "python",
      "display_name": "Python 3"
    },
    "language_info": {
      "name": "python",
      "version": "3.6.1",
      "mimetype": "text/x-python",
      "codemirror_mode": {
        "name": "ipython",
        "version": 3
      },
      "pygments_lexer": "ipython3",
      "nbconvert_exporter": "python",
      "file_extension": ".py"
    },
    "nteract": {
      "version": "0.8.4"
    }
  },
  "nbformat": 4,
  "nbformat_minor": 4
}